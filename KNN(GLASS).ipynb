{
 "cells": [
  {
   "cell_type": "code",
   "execution_count": 1,
   "id": "c9e95338",
   "metadata": {},
   "outputs": [],
   "source": [
    "import pandas as pd\n",
    "import numpy as np\n",
    "import matplotlib.pyplot as plt\n",
    "import seaborn as sns\n",
    "from sklearn.model_selection import KFold\n",
    "from sklearn.model_selection import cross_val_score\n",
    "from sklearn.neighbors import KNeighborsClassifier\n",
    "from sklearn.model_selection import train_test_split\n",
    "from sklearn.metrics import accuracy_score, classification_report\n",
    "import warnings\n",
    "warnings.filterwarnings('ignore')"
   ]
  },
  {
   "cell_type": "code",
   "execution_count": 2,
   "id": "3d461042",
   "metadata": {},
   "outputs": [],
   "source": [
    "kg=pd.read_csv('glass.csv')"
   ]
  },
  {
   "cell_type": "code",
   "execution_count": 3,
   "id": "425e624e",
   "metadata": {},
   "outputs": [
    {
     "data": {
      "text/html": [
       "<div>\n",
       "<style scoped>\n",
       "    .dataframe tbody tr th:only-of-type {\n",
       "        vertical-align: middle;\n",
       "    }\n",
       "\n",
       "    .dataframe tbody tr th {\n",
       "        vertical-align: top;\n",
       "    }\n",
       "\n",
       "    .dataframe thead th {\n",
       "        text-align: right;\n",
       "    }\n",
       "</style>\n",
       "<table border=\"1\" class=\"dataframe\">\n",
       "  <thead>\n",
       "    <tr style=\"text-align: right;\">\n",
       "      <th></th>\n",
       "      <th>RI</th>\n",
       "      <th>Na</th>\n",
       "      <th>Mg</th>\n",
       "      <th>Al</th>\n",
       "      <th>Si</th>\n",
       "      <th>K</th>\n",
       "      <th>Ca</th>\n",
       "      <th>Ba</th>\n",
       "      <th>Fe</th>\n",
       "      <th>Type</th>\n",
       "    </tr>\n",
       "  </thead>\n",
       "  <tbody>\n",
       "    <tr>\n",
       "      <th>0</th>\n",
       "      <td>1.52101</td>\n",
       "      <td>13.64</td>\n",
       "      <td>4.49</td>\n",
       "      <td>1.10</td>\n",
       "      <td>71.78</td>\n",
       "      <td>0.06</td>\n",
       "      <td>8.75</td>\n",
       "      <td>0.00</td>\n",
       "      <td>0.0</td>\n",
       "      <td>1</td>\n",
       "    </tr>\n",
       "    <tr>\n",
       "      <th>1</th>\n",
       "      <td>1.51761</td>\n",
       "      <td>13.89</td>\n",
       "      <td>3.60</td>\n",
       "      <td>1.36</td>\n",
       "      <td>72.73</td>\n",
       "      <td>0.48</td>\n",
       "      <td>7.83</td>\n",
       "      <td>0.00</td>\n",
       "      <td>0.0</td>\n",
       "      <td>1</td>\n",
       "    </tr>\n",
       "    <tr>\n",
       "      <th>2</th>\n",
       "      <td>1.51618</td>\n",
       "      <td>13.53</td>\n",
       "      <td>3.55</td>\n",
       "      <td>1.54</td>\n",
       "      <td>72.99</td>\n",
       "      <td>0.39</td>\n",
       "      <td>7.78</td>\n",
       "      <td>0.00</td>\n",
       "      <td>0.0</td>\n",
       "      <td>1</td>\n",
       "    </tr>\n",
       "    <tr>\n",
       "      <th>3</th>\n",
       "      <td>1.51766</td>\n",
       "      <td>13.21</td>\n",
       "      <td>3.69</td>\n",
       "      <td>1.29</td>\n",
       "      <td>72.61</td>\n",
       "      <td>0.57</td>\n",
       "      <td>8.22</td>\n",
       "      <td>0.00</td>\n",
       "      <td>0.0</td>\n",
       "      <td>1</td>\n",
       "    </tr>\n",
       "    <tr>\n",
       "      <th>4</th>\n",
       "      <td>1.51742</td>\n",
       "      <td>13.27</td>\n",
       "      <td>3.62</td>\n",
       "      <td>1.24</td>\n",
       "      <td>73.08</td>\n",
       "      <td>0.55</td>\n",
       "      <td>8.07</td>\n",
       "      <td>0.00</td>\n",
       "      <td>0.0</td>\n",
       "      <td>1</td>\n",
       "    </tr>\n",
       "    <tr>\n",
       "      <th>...</th>\n",
       "      <td>...</td>\n",
       "      <td>...</td>\n",
       "      <td>...</td>\n",
       "      <td>...</td>\n",
       "      <td>...</td>\n",
       "      <td>...</td>\n",
       "      <td>...</td>\n",
       "      <td>...</td>\n",
       "      <td>...</td>\n",
       "      <td>...</td>\n",
       "    </tr>\n",
       "    <tr>\n",
       "      <th>209</th>\n",
       "      <td>1.51623</td>\n",
       "      <td>14.14</td>\n",
       "      <td>0.00</td>\n",
       "      <td>2.88</td>\n",
       "      <td>72.61</td>\n",
       "      <td>0.08</td>\n",
       "      <td>9.18</td>\n",
       "      <td>1.06</td>\n",
       "      <td>0.0</td>\n",
       "      <td>7</td>\n",
       "    </tr>\n",
       "    <tr>\n",
       "      <th>210</th>\n",
       "      <td>1.51685</td>\n",
       "      <td>14.92</td>\n",
       "      <td>0.00</td>\n",
       "      <td>1.99</td>\n",
       "      <td>73.06</td>\n",
       "      <td>0.00</td>\n",
       "      <td>8.40</td>\n",
       "      <td>1.59</td>\n",
       "      <td>0.0</td>\n",
       "      <td>7</td>\n",
       "    </tr>\n",
       "    <tr>\n",
       "      <th>211</th>\n",
       "      <td>1.52065</td>\n",
       "      <td>14.36</td>\n",
       "      <td>0.00</td>\n",
       "      <td>2.02</td>\n",
       "      <td>73.42</td>\n",
       "      <td>0.00</td>\n",
       "      <td>8.44</td>\n",
       "      <td>1.64</td>\n",
       "      <td>0.0</td>\n",
       "      <td>7</td>\n",
       "    </tr>\n",
       "    <tr>\n",
       "      <th>212</th>\n",
       "      <td>1.51651</td>\n",
       "      <td>14.38</td>\n",
       "      <td>0.00</td>\n",
       "      <td>1.94</td>\n",
       "      <td>73.61</td>\n",
       "      <td>0.00</td>\n",
       "      <td>8.48</td>\n",
       "      <td>1.57</td>\n",
       "      <td>0.0</td>\n",
       "      <td>7</td>\n",
       "    </tr>\n",
       "    <tr>\n",
       "      <th>213</th>\n",
       "      <td>1.51711</td>\n",
       "      <td>14.23</td>\n",
       "      <td>0.00</td>\n",
       "      <td>2.08</td>\n",
       "      <td>73.36</td>\n",
       "      <td>0.00</td>\n",
       "      <td>8.62</td>\n",
       "      <td>1.67</td>\n",
       "      <td>0.0</td>\n",
       "      <td>7</td>\n",
       "    </tr>\n",
       "  </tbody>\n",
       "</table>\n",
       "<p>214 rows × 10 columns</p>\n",
       "</div>"
      ],
      "text/plain": [
       "          RI     Na    Mg    Al     Si     K    Ca    Ba   Fe  Type\n",
       "0    1.52101  13.64  4.49  1.10  71.78  0.06  8.75  0.00  0.0     1\n",
       "1    1.51761  13.89  3.60  1.36  72.73  0.48  7.83  0.00  0.0     1\n",
       "2    1.51618  13.53  3.55  1.54  72.99  0.39  7.78  0.00  0.0     1\n",
       "3    1.51766  13.21  3.69  1.29  72.61  0.57  8.22  0.00  0.0     1\n",
       "4    1.51742  13.27  3.62  1.24  73.08  0.55  8.07  0.00  0.0     1\n",
       "..       ...    ...   ...   ...    ...   ...   ...   ...  ...   ...\n",
       "209  1.51623  14.14  0.00  2.88  72.61  0.08  9.18  1.06  0.0     7\n",
       "210  1.51685  14.92  0.00  1.99  73.06  0.00  8.40  1.59  0.0     7\n",
       "211  1.52065  14.36  0.00  2.02  73.42  0.00  8.44  1.64  0.0     7\n",
       "212  1.51651  14.38  0.00  1.94  73.61  0.00  8.48  1.57  0.0     7\n",
       "213  1.51711  14.23  0.00  2.08  73.36  0.00  8.62  1.67  0.0     7\n",
       "\n",
       "[214 rows x 10 columns]"
      ]
     },
     "execution_count": 3,
     "metadata": {},
     "output_type": "execute_result"
    }
   ],
   "source": [
    "kg"
   ]
  },
  {
   "cell_type": "code",
   "execution_count": 4,
   "id": "a8b24abe",
   "metadata": {},
   "outputs": [
    {
     "data": {
      "text/plain": [
       "(214, 10)"
      ]
     },
     "execution_count": 4,
     "metadata": {},
     "output_type": "execute_result"
    }
   ],
   "source": [
    "kg.shape"
   ]
  },
  {
   "cell_type": "code",
   "execution_count": 5,
   "id": "0e3af7db",
   "metadata": {},
   "outputs": [
    {
     "name": "stdout",
     "output_type": "stream",
     "text": [
      "<class 'pandas.core.frame.DataFrame'>\n",
      "RangeIndex: 214 entries, 0 to 213\n",
      "Data columns (total 10 columns):\n",
      " #   Column  Non-Null Count  Dtype  \n",
      "---  ------  --------------  -----  \n",
      " 0   RI      214 non-null    float64\n",
      " 1   Na      214 non-null    float64\n",
      " 2   Mg      214 non-null    float64\n",
      " 3   Al      214 non-null    float64\n",
      " 4   Si      214 non-null    float64\n",
      " 5   K       214 non-null    float64\n",
      " 6   Ca      214 non-null    float64\n",
      " 7   Ba      214 non-null    float64\n",
      " 8   Fe      214 non-null    float64\n",
      " 9   Type    214 non-null    int64  \n",
      "dtypes: float64(9), int64(1)\n",
      "memory usage: 16.8 KB\n"
     ]
    }
   ],
   "source": [
    "kg.info()"
   ]
  },
  {
   "cell_type": "code",
   "execution_count": 6,
   "id": "6ce01ccb",
   "metadata": {},
   "outputs": [
    {
     "data": {
      "text/plain": [
       "RI      0\n",
       "Na      0\n",
       "Mg      0\n",
       "Al      0\n",
       "Si      0\n",
       "K       0\n",
       "Ca      0\n",
       "Ba      0\n",
       "Fe      0\n",
       "Type    0\n",
       "dtype: int64"
      ]
     },
     "execution_count": 6,
     "metadata": {},
     "output_type": "execute_result"
    }
   ],
   "source": [
    "kg.isna().sum()"
   ]
  },
  {
   "cell_type": "code",
   "execution_count": 7,
   "id": "f1be902e",
   "metadata": {},
   "outputs": [
    {
     "data": {
      "text/plain": [
       "2    76\n",
       "1    70\n",
       "7    29\n",
       "3    17\n",
       "5    13\n",
       "6     9\n",
       "Name: Type, dtype: int64"
      ]
     },
     "execution_count": 7,
     "metadata": {},
     "output_type": "execute_result"
    }
   ],
   "source": [
    "kg['Type'].value_counts()"
   ]
  },
  {
   "cell_type": "code",
   "execution_count": 8,
   "id": "94b78fe4",
   "metadata": {},
   "outputs": [
    {
     "data": {
      "image/png": "[encoded data removed]",
      "text/plain": [
       "<Figure size 640x480 with 1 Axes>"
      ]
     },
     "metadata": {},
     "output_type": "display_data"
    }
   ],
   "source": [
    "kg.Type.value_counts().plot(kind='bar',color='#ff9333')\n",
    "plt.xlabel(\"count\",size=20)\n",
    "plt.ylabel(\"Type_value\",size=22)\n",
    "plt.xticks(rotation='0')\n",
    "plt.show()"
   ]
  },
  {
   "cell_type": "code",
   "execution_count": 9,
   "id": "608abcb2",
   "metadata": {},
   "outputs": [
    {
     "data": {
      "text/plain": [
       "<AxesSubplot:ylabel='Type'>"
      ]
     },
     "execution_count": 9,
     "metadata": {},
     "output_type": "execute_result"
    },
    {
     "data": {
      "image/png": "[encoded data removed]",
      "text/plain": [
       "<Figure size 1000x400 with 1 Axes>"
      ]
     },
     "metadata": {},
     "output_type": "display_data"
    }
   ],
   "source": [
    "plt.figure(figsize=(10,4))\n",
    "kg[\"Type\"].value_counts().plot(kind='pie',autopct=\"%1.2f%%\")"
   ]
  },
  {
   "cell_type": "code",
   "execution_count": 10,
   "id": "0d596deb",
   "metadata": {},
   "outputs": [
    {
     "data": {
      "text/plain": [
       "Index(['RI', 'Na', 'Mg', 'Al', 'Si', 'K', 'Ca', 'Ba', 'Fe', 'Type'], dtype='object')"
      ]
     },
     "execution_count": 10,
     "metadata": {},
     "output_type": "execute_result"
    }
   ],
   "source": [
    "kg.columns"
   ]
  },
  {
   "cell_type": "code",
   "execution_count": 11,
   "id": "c2ef3a08",
   "metadata": {},
   "outputs": [
    {
     "data": {
      "image/png": "[encoded data removed]",
      "text/plain": [
       "<Figure size 2000x3000 with 9 Axes>"
      ]
     },
     "metadata": {},
     "output_type": "display_data"
    }
   ],
   "source": [
    "column=['RI', 'Na', 'Mg', 'Al', 'Si', 'K', 'Ca', 'Ba', 'Fe']\n",
    "fig=plt.figure(figsize=(20,30))\n",
    "i=0\n",
    "for column in column:\n",
    "    sub=fig.add_subplot(4,3,i+1)\n",
    "    sub.set_xlabel(column)\n",
    "    kg[column].plot(kind='hist')\n",
    "    i=i+1"
   ]
  },
  {
   "cell_type": "code",
   "execution_count": 12,
   "id": "0f9e151c",
   "metadata": {},
   "outputs": [],
   "source": [
    "array=kg.values\n",
    "x=array[:,0:-1]\n",
    "y=array[:,-1]"
   ]
  },
  {
   "cell_type": "code",
   "execution_count": 13,
   "id": "3aaf35d7",
   "metadata": {},
   "outputs": [
    {
     "data": {
      "text/plain": [
       "array([[0.43283582, 0.43759398, 1.        , ..., 0.30855019, 0.        ,\n",
       "        0.        ],\n",
       "       [0.28358209, 0.47518797, 0.80178174, ..., 0.22304833, 0.        ,\n",
       "        0.        ],\n",
       "       [0.22080773, 0.42105263, 0.79064588, ..., 0.21840149, 0.        ,\n",
       "        0.        ],\n",
       "       ...,\n",
       "       [0.41703248, 0.54586466, 0.        , ..., 0.27973978, 0.52063492,\n",
       "        0.        ],\n",
       "       [0.23529412, 0.54887218, 0.        , ..., 0.28345725, 0.4984127 ,\n",
       "        0.        ],\n",
       "       [0.26163301, 0.52631579, 0.        , ..., 0.2964684 , 0.53015873,\n",
       "        0.        ]])"
      ]
     },
     "execution_count": 13,
     "metadata": {},
     "output_type": "execute_result"
    }
   ],
   "source": [
    "x=(x-x.min(axis=0))/(x.max(axis=0)-x.min(axis=0))\n",
    "x"
   ]
  },
  {
   "cell_type": "code",
   "execution_count": 14,
   "id": "103d1287",
   "metadata": {},
   "outputs": [
    {
     "data": {
      "text/plain": [
       "array([1., 1., 1., 1., 1., 1., 1., 1., 1., 1., 1., 1., 1., 1., 1., 1., 1.,\n",
       "       1., 1., 1., 1., 1., 1., 1., 1., 1., 1., 1., 1., 1., 1., 1., 1., 1.,\n",
       "       1., 1., 1., 1., 1., 1., 1., 1., 1., 1., 1., 1., 1., 1., 1., 1., 1.,\n",
       "       1., 1., 1., 1., 1., 1., 1., 1., 1., 1., 1., 1., 1., 1., 1., 1., 1.,\n",
       "       1., 1., 2., 2., 2., 2., 2., 2., 2., 2., 2., 2., 2., 2., 2., 2., 2.,\n",
       "       2., 2., 2., 2., 2., 2., 2., 2., 2., 2., 2., 2., 2., 2., 2., 2., 2.,\n",
       "       2., 2., 2., 2., 2., 2., 2., 2., 2., 2., 2., 2., 2., 2., 2., 2., 2.,\n",
       "       2., 2., 2., 2., 2., 2., 2., 2., 2., 2., 2., 2., 2., 2., 2., 2., 2.,\n",
       "       2., 2., 2., 2., 2., 2., 2., 2., 2., 2., 3., 3., 3., 3., 3., 3., 3.,\n",
       "       3., 3., 3., 3., 3., 3., 3., 3., 3., 3., 5., 5., 5., 5., 5., 5., 5.,\n",
       "       5., 5., 5., 5., 5., 5., 6., 6., 6., 6., 6., 6., 6., 6., 6., 7., 7.,\n",
       "       7., 7., 7., 7., 7., 7., 7., 7., 7., 7., 7., 7., 7., 7., 7., 7., 7.,\n",
       "       7., 7., 7., 7., 7., 7., 7., 7., 7., 7.])"
      ]
     },
     "execution_count": 14,
     "metadata": {},
     "output_type": "execute_result"
    }
   ],
   "source": [
    "y"
   ]
  },
  {
   "cell_type": "code",
   "execution_count": 15,
   "id": "8045b180",
   "metadata": {},
   "outputs": [],
   "source": [
    "x_train,x_test,y_train,y_test=train_test_split(x,y,test_size=0.3,random_state=19,shuffle=True)"
   ]
  },
  {
   "cell_type": "code",
   "execution_count": 16,
   "id": "0ca3962f",
   "metadata": {},
   "outputs": [
    {
     "name": "stdout",
     "output_type": "stream",
     "text": [
      "              precision    recall  f1-score   support\n",
      "\n",
      "         1.0       0.58      0.90      0.71        20\n",
      "         2.0       0.71      0.68      0.70        22\n",
      "         3.0       0.00      0.00      0.00         4\n",
      "         5.0       0.00      0.00      0.00         7\n",
      "         6.0       0.00      0.00      0.00         4\n",
      "         7.0       0.67      1.00      0.80         8\n",
      "\n",
      "    accuracy                           0.63        65\n",
      "   macro avg       0.33      0.43      0.37        65\n",
      "weighted avg       0.50      0.63      0.55        65\n",
      "\n"
     ]
    }
   ],
   "source": [
    "model=KNeighborsClassifier(n_neighbors=14)\n",
    "model.fit(x_train,y_train)\n",
    "pred=model.predict(x_test)\n",
    "accuracy_score(y_test,pred)\n",
    "print(classification_report(y_test,pred))"
   ]
  },
  {
   "cell_type": "code",
   "execution_count": 17,
   "id": "8bc41ee0",
   "metadata": {},
   "outputs": [
    {
     "name": "stdout",
     "output_type": "stream",
     "text": [
      "              precision    recall  f1-score   support\n",
      "\n",
      "         1.0       0.63      0.85      0.72        20\n",
      "         2.0       0.71      0.55      0.62        22\n",
      "         3.0       0.00      0.00      0.00         4\n",
      "         5.0       0.71      0.71      0.71         7\n",
      "         6.0       1.00      0.75      0.86         4\n",
      "         7.0       0.89      1.00      0.94         8\n",
      "\n",
      "    accuracy                           0.69        65\n",
      "   macro avg       0.66      0.64      0.64        65\n",
      "weighted avg       0.68      0.69      0.68        65\n",
      " 1\n",
      "              precision    recall  f1-score   support\n",
      "\n",
      "         1.0       0.60      0.90      0.72        20\n",
      "         2.0       0.72      0.59      0.65        22\n",
      "         3.0       0.00      0.00      0.00         4\n",
      "         5.0       0.60      0.43      0.50         7\n",
      "         6.0       1.00      0.50      0.67         4\n",
      "         7.0       0.89      1.00      0.94         8\n",
      "\n",
      "    accuracy                           0.68        65\n",
      "   macro avg       0.64      0.57      0.58        65\n",
      "weighted avg       0.66      0.68      0.65        65\n",
      " 3\n",
      "              precision    recall  f1-score   support\n",
      "\n",
      "         1.0       0.58      0.90      0.71        20\n",
      "         2.0       0.67      0.64      0.65        22\n",
      "         3.0       0.00      0.00      0.00         4\n",
      "         5.0       0.33      0.14      0.20         7\n",
      "         6.0       0.00      0.00      0.00         4\n",
      "         7.0       0.80      1.00      0.89         8\n",
      "\n",
      "    accuracy                           0.63        65\n",
      "   macro avg       0.40      0.45      0.41        65\n",
      "weighted avg       0.54      0.63      0.57        65\n",
      " 5\n",
      "              precision    recall  f1-score   support\n",
      "\n",
      "         1.0       0.59      0.95      0.73        20\n",
      "         2.0       0.65      0.59      0.62        22\n",
      "         3.0       0.00      0.00      0.00         4\n",
      "         5.0       0.33      0.14      0.20         7\n",
      "         6.0       0.00      0.00      0.00         4\n",
      "         7.0       0.80      1.00      0.89         8\n",
      "\n",
      "    accuracy                           0.63        65\n",
      "   macro avg       0.40      0.45      0.41        65\n",
      "weighted avg       0.54      0.63      0.57        65\n",
      " 7\n",
      "              precision    recall  f1-score   support\n",
      "\n",
      "         1.0       0.58      0.90      0.71        20\n",
      "         2.0       0.64      0.64      0.64        22\n",
      "         3.0       0.00      0.00      0.00         4\n",
      "         5.0       1.00      0.14      0.25         7\n",
      "         6.0       0.00      0.00      0.00         4\n",
      "         7.0       0.73      1.00      0.84         8\n",
      "\n",
      "    accuracy                           0.63        65\n",
      "   macro avg       0.49      0.45      0.41        65\n",
      "weighted avg       0.59      0.63      0.56        65\n",
      " 9\n",
      "              precision    recall  f1-score   support\n",
      "\n",
      "         1.0       0.56      0.90      0.69        20\n",
      "         2.0       0.65      0.59      0.62        22\n",
      "         3.0       0.00      0.00      0.00         4\n",
      "         5.0       0.00      0.00      0.00         7\n",
      "         6.0       0.00      0.00      0.00         4\n",
      "         7.0       0.67      1.00      0.80         8\n",
      "\n",
      "    accuracy                           0.60        65\n",
      "   macro avg       0.31      0.42      0.35        65\n",
      "weighted avg       0.48      0.60      0.52        65\n",
      " 11\n",
      "              precision    recall  f1-score   support\n",
      "\n",
      "         1.0       0.59      0.85      0.69        20\n",
      "         2.0       0.61      0.64      0.62        22\n",
      "         3.0       0.00      0.00      0.00         4\n",
      "         5.0       0.00      0.00      0.00         7\n",
      "         6.0       0.00      0.00      0.00         4\n",
      "         7.0       0.67      1.00      0.80         8\n",
      "\n",
      "    accuracy                           0.60        65\n",
      "   macro avg       0.31      0.41      0.35        65\n",
      "weighted avg       0.47      0.60      0.52        65\n",
      " 13\n",
      "              precision    recall  f1-score   support\n",
      "\n",
      "         1.0       0.57      0.85      0.68        20\n",
      "         2.0       0.68      0.68      0.68        22\n",
      "         3.0       0.00      0.00      0.00         4\n",
      "         5.0       0.00      0.00      0.00         7\n",
      "         6.0       0.00      0.00      0.00         4\n",
      "         7.0       0.67      1.00      0.80         8\n",
      "\n",
      "    accuracy                           0.62        65\n",
      "   macro avg       0.32      0.42      0.36        65\n",
      "weighted avg       0.49      0.62      0.54        65\n",
      " 15\n",
      "              precision    recall  f1-score   support\n",
      "\n",
      "         1.0       0.61      0.85      0.71        20\n",
      "         2.0       0.62      0.68      0.65        22\n",
      "         3.0       0.00      0.00      0.00         4\n",
      "         5.0       0.00      0.00      0.00         7\n",
      "         6.0       0.00      0.00      0.00         4\n",
      "         7.0       0.67      1.00      0.80         8\n",
      "\n",
      "    accuracy                           0.62        65\n",
      "   macro avg       0.32      0.42      0.36        65\n",
      "weighted avg       0.48      0.62      0.54        65\n",
      " 17\n",
      "              precision    recall  f1-score   support\n",
      "\n",
      "         1.0       0.59      0.80      0.68        20\n",
      "         2.0       0.60      0.68      0.64        22\n",
      "         3.0       0.00      0.00      0.00         4\n",
      "         5.0       0.00      0.00      0.00         7\n",
      "         6.0       0.00      0.00      0.00         4\n",
      "         7.0       0.62      1.00      0.76         8\n",
      "\n",
      "    accuracy                           0.60        65\n",
      "   macro avg       0.30      0.41      0.35        65\n",
      "weighted avg       0.46      0.60      0.52        65\n",
      " 19\n",
      "              precision    recall  f1-score   support\n",
      "\n",
      "         1.0       0.57      0.85      0.68        20\n",
      "         2.0       0.64      0.64      0.64        22\n",
      "         3.0       0.00      0.00      0.00         4\n",
      "         5.0       0.00      0.00      0.00         7\n",
      "         6.0       0.00      0.00      0.00         4\n",
      "         7.0       0.62      1.00      0.76         8\n",
      "\n",
      "    accuracy                           0.60        65\n",
      "   macro avg       0.30      0.41      0.35        65\n",
      "weighted avg       0.47      0.60      0.52        65\n",
      " 21\n",
      "              precision    recall  f1-score   support\n",
      "\n",
      "         1.0       0.59      0.85      0.69        20\n",
      "         2.0       0.65      0.68      0.67        22\n",
      "         3.0       0.00      0.00      0.00         4\n",
      "         5.0       0.00      0.00      0.00         7\n",
      "         6.0       0.00      0.00      0.00         4\n",
      "         7.0       0.62      1.00      0.76         8\n",
      "\n",
      "    accuracy                           0.62        65\n",
      "   macro avg       0.31      0.42      0.35        65\n",
      "weighted avg       0.48      0.62      0.53        65\n",
      " 23\n",
      "              precision    recall  f1-score   support\n",
      "\n",
      "         1.0       0.55      0.85      0.67        20\n",
      "         2.0       0.65      0.59      0.62        22\n",
      "         3.0       0.00      0.00      0.00         4\n",
      "         5.0       0.00      0.00      0.00         7\n",
      "         6.0       0.00      0.00      0.00         4\n",
      "         7.0       0.57      1.00      0.73         8\n",
      "\n",
      "    accuracy                           0.58        65\n",
      "   macro avg       0.29      0.41      0.34        65\n",
      "weighted avg       0.46      0.58      0.50        65\n",
      " 25\n",
      "              precision    recall  f1-score   support\n",
      "\n",
      "         1.0       0.53      0.80      0.64        20\n",
      "         2.0       0.70      0.64      0.67        22\n",
      "         3.0       0.00      0.00      0.00         4\n",
      "         5.0       0.00      0.00      0.00         7\n",
      "         6.0       0.00      0.00      0.00         4\n",
      "         7.0       0.53      1.00      0.70         8\n",
      "\n",
      "    accuracy                           0.58        65\n",
      "   macro avg       0.29      0.41      0.33        65\n",
      "weighted avg       0.47      0.58      0.51        65\n",
      " 27\n",
      "              precision    recall  f1-score   support\n",
      "\n",
      "         1.0       0.56      0.90      0.69        20\n",
      "         2.0       0.83      0.68      0.75        22\n",
      "         3.0       0.00      0.00      0.00         4\n",
      "         5.0       0.00      0.00      0.00         7\n",
      "         6.0       0.00      0.00      0.00         4\n",
      "         7.0       0.53      1.00      0.70         8\n",
      "\n",
      "    accuracy                           0.63        65\n",
      "   macro avg       0.32      0.43      0.36        65\n",
      "weighted avg       0.52      0.63      0.55        65\n",
      " 29\n",
      "              precision    recall  f1-score   support\n",
      "\n",
      "         1.0       0.55      0.90      0.68        20\n",
      "         2.0       0.82      0.64      0.72        22\n",
      "         3.0       0.00      0.00      0.00         4\n",
      "         5.0       0.00      0.00      0.00         7\n",
      "         6.0       0.00      0.00      0.00         4\n",
      "         7.0       0.53      1.00      0.70         8\n",
      "\n",
      "    accuracy                           0.62        65\n",
      "   macro avg       0.32      0.42      0.35        65\n",
      "weighted avg       0.51      0.62      0.54        65\n",
      " 31\n",
      "              precision    recall  f1-score   support\n",
      "\n",
      "         1.0       0.50      0.85      0.63        20\n",
      "         2.0       0.75      0.55      0.63        22\n",
      "         3.0       0.00      0.00      0.00         4\n",
      "         5.0       0.00      0.00      0.00         7\n",
      "         6.0       0.00      0.00      0.00         4\n",
      "         7.0       0.53      1.00      0.70         8\n",
      "\n",
      "    accuracy                           0.57        65\n",
      "   macro avg       0.30      0.40      0.33        65\n",
      "weighted avg       0.47      0.57      0.49        65\n",
      " 33\n",
      "              precision    recall  f1-score   support\n",
      "\n",
      "         1.0       0.48      0.70      0.57        20\n",
      "         2.0       0.67      0.64      0.65        22\n",
      "         3.0       0.00      0.00      0.00         4\n",
      "         5.0       0.00      0.00      0.00         7\n",
      "         6.0       0.00      0.00      0.00         4\n",
      "         7.0       0.53      1.00      0.70         8\n",
      "\n",
      "    accuracy                           0.55        65\n",
      "   macro avg       0.28      0.39      0.32        65\n",
      "weighted avg       0.44      0.55      0.48        65\n",
      " 35\n",
      "              precision    recall  f1-score   support\n",
      "\n",
      "         1.0       0.50      0.55      0.52        20\n",
      "         2.0       0.54      0.68      0.60        22\n",
      "         3.0       0.00      0.00      0.00         4\n",
      "         5.0       0.00      0.00      0.00         7\n",
      "         6.0       0.00      0.00      0.00         4\n",
      "         7.0       0.53      1.00      0.70         8\n",
      "\n",
      "    accuracy                           0.52        65\n",
      "   macro avg       0.26      0.37      0.30        65\n",
      "weighted avg       0.40      0.52      0.45        65\n",
      " 37\n",
      "              precision    recall  f1-score   support\n",
      "\n",
      "         1.0       0.55      0.55      0.55        20\n",
      "         2.0       0.57      0.77      0.65        22\n",
      "         3.0       0.00      0.00      0.00         4\n",
      "         5.0       0.00      0.00      0.00         7\n",
      "         6.0       0.00      0.00      0.00         4\n",
      "         7.0       0.53      1.00      0.70         8\n",
      "\n",
      "    accuracy                           0.55        65\n",
      "   macro avg       0.27      0.39      0.32        65\n",
      "weighted avg       0.43      0.55      0.48        65\n",
      " 39\n",
      "              precision    recall  f1-score   support\n",
      "\n",
      "         1.0       0.47      0.45      0.46        20\n",
      "         2.0       0.48      0.68      0.57        22\n",
      "         3.0       0.00      0.00      0.00         4\n",
      "         5.0       0.00      0.00      0.00         7\n",
      "         6.0       0.00      0.00      0.00         4\n",
      "         7.0       0.53      1.00      0.70         8\n",
      "\n",
      "    accuracy                           0.49        65\n",
      "   macro avg       0.25      0.36      0.29        65\n",
      "weighted avg       0.38      0.49      0.42        65\n",
      " 41\n",
      "              precision    recall  f1-score   support\n",
      "\n",
      "         1.0       0.56      0.50      0.53        20\n",
      "         2.0       0.53      0.77      0.63        22\n",
      "         3.0       0.00      0.00      0.00         4\n",
      "         5.0       0.00      0.00      0.00         7\n",
      "         6.0       0.00      0.00      0.00         4\n",
      "         7.0       0.53      1.00      0.70         8\n",
      "\n",
      "    accuracy                           0.54        65\n",
      "   macro avg       0.27      0.38      0.31        65\n",
      "weighted avg       0.42      0.54      0.46        65\n",
      " 43\n",
      "              precision    recall  f1-score   support\n",
      "\n",
      "         1.0       0.52      0.55      0.54        20\n",
      "         2.0       0.50      0.68      0.58        22\n",
      "         3.0       0.00      0.00      0.00         4\n",
      "         5.0       0.00      0.00      0.00         7\n",
      "         6.0       0.00      0.00      0.00         4\n",
      "         7.0       0.57      1.00      0.73         8\n",
      "\n",
      "    accuracy                           0.52        65\n",
      "   macro avg       0.27      0.37      0.31        65\n",
      "weighted avg       0.40      0.52      0.45        65\n",
      " 45\n",
      "              precision    recall  f1-score   support\n",
      "\n",
      "         1.0       0.52      0.60      0.56        20\n",
      "         2.0       0.48      0.64      0.55        22\n",
      "         3.0       0.00      0.00      0.00         4\n",
      "         5.0       0.00      0.00      0.00         7\n",
      "         6.0       0.00      0.00      0.00         4\n",
      "         7.0       0.54      0.88      0.67         8\n",
      "\n",
      "    accuracy                           0.51        65\n",
      "   macro avg       0.26      0.35      0.30        65\n",
      "weighted avg       0.39      0.51      0.44        65\n",
      " 47\n",
      "              precision    recall  f1-score   support\n",
      "\n",
      "         1.0       0.57      0.60      0.59        20\n",
      "         2.0       0.48      0.73      0.58        22\n",
      "         3.0       0.00      0.00      0.00         4\n",
      "         5.0       0.00      0.00      0.00         7\n",
      "         6.0       0.00      0.00      0.00         4\n",
      "         7.0       0.55      0.75      0.63         8\n",
      "\n",
      "    accuracy                           0.52        65\n",
      "   macro avg       0.27      0.35      0.30        65\n",
      "weighted avg       0.41      0.52      0.45        65\n",
      " 49\n",
      "              precision    recall  f1-score   support\n",
      "\n",
      "         1.0       0.60      0.75      0.67        20\n",
      "         2.0       0.55      0.73      0.63        22\n",
      "         3.0       0.00      0.00      0.00         4\n",
      "         5.0       0.00      0.00      0.00         7\n",
      "         6.0       0.00      0.00      0.00         4\n",
      "         7.0       0.55      0.75      0.63         8\n",
      "\n",
      "    accuracy                           0.57        65\n",
      "   macro avg       0.28      0.37      0.32        65\n",
      "weighted avg       0.44      0.57      0.50        65\n",
      " 51\n"
     ]
    }
   ],
   "source": [
    " n_neighbors=[2*i+1 for i in range(0,26)]\n",
    "for n in n_neighbors:\n",
    "    model=KNeighborsClassifier(n_neighbors=n)\n",
    "    model.fit(x_train,y_train)\n",
    "    pred=model.predict(x_test)\n",
    "    accuracy_score(y_test,pred)\n",
    "    \n",
    "    print(classification_report(y_test,pred),n)"
   ]
  },
  {
   "cell_type": "markdown",
   "id": "134db5c7",
   "metadata": {},
   "source": [
    "# VISUALISING THE CV RESULTS"
   ]
  },
  {
   "cell_type": "code",
   "execution_count": 18,
   "id": "8c381d6b",
   "metadata": {},
   "outputs": [
    {
     "data": {
      "image/png": "[encoded data removed]",
      "text/plain": [
       "<Figure size 640x480 with 1 Axes>"
      ]
     },
     "metadata": {},
     "output_type": "display_data"
    }
   ],
   "source": [
    "k_range=[2*i+1 for i in range(0,20)]\n",
    "k_scores=[]\n",
    "\n",
    "for k in k_range:\n",
    "    knn=KNeighborsClassifier(n_neighbors=k)\n",
    "    scores=cross_val_score(knn,x_train,y_train,cv=10)\n",
    "    k_scores.append(scores.mean())\n",
    "    \n",
    "plt.bar(k_range,k_scores)\n",
    "plt.plot(k_range,k_scores,color='red')\n",
    "\n",
    "plt.xlabel('value of k for knn')\n",
    "plt.ylabel('cross-validated Accuracy')\n",
    "plt.xticks(k_range)\n",
    "plt.ylim(0.6,1)\n",
    "plt.show()"
   ]
  },
  {
   "cell_type": "code",
   "execution_count": 19,
   "id": "33840fef",
   "metadata": {},
   "outputs": [
    {
     "name": "stdout",
     "output_type": "stream",
     "text": [
      "              precision    recall  f1-score   support\n",
      "\n",
      "         1.0       0.63      0.85      0.72        20\n",
      "         2.0       0.71      0.55      0.62        22\n",
      "         3.0       0.00      0.00      0.00         4\n",
      "         5.0       0.71      0.71      0.71         7\n",
      "         6.0       1.00      0.75      0.86         4\n",
      "         7.0       0.89      1.00      0.94         8\n",
      "\n",
      "    accuracy                           0.69        65\n",
      "   macro avg       0.66      0.64      0.64        65\n",
      "weighted avg       0.68      0.69      0.68        65\n",
      "\n"
     ]
    }
   ],
   "source": [
    "model=model = KNeighborsClassifier(n_neighbors=1)\n",
    "model.fit(x_train,y_train)\n",
    "pred=model.predict(x_test)\n",
    "accuracy_score(y_test,pred)\n",
    "print(classification_report(y_test,pred))"
   ]
  },
  {
   "cell_type": "code",
   "execution_count": null,
   "id": "c1cf3bf6",
   "metadata": {},
   "outputs": [],
   "source": []
  }
 ],
 "metadata": {
  "kernelspec": {
   "display_name": "Python 3 (ipykernel)",
   "language": "python",
   "name": "python3"
  },
  "language_info": {
   "codemirror_mode": {
    "name": "ipython",
    "version": 3
   },
   "file_extension": ".py",
   "mimetype": "text/x-python",
   "name": "python",
   "nbconvert_exporter": "python",
   "pygments_lexer": "ipython3",
   "version": "3.9.13"
  }
 },
 "nbformat": 4,
 "nbformat_minor": 5
}
